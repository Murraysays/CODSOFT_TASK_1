{
 "cells": [
  {
   "cell_type": "markdown",
   "id": "bbe87a90-a832-48de-9bd8-6d7545b99127",
   "metadata": {},
   "source": [
    "# Titanic Survival Prediction Model"
   ]
  },
  {
   "cell_type": "markdown",
   "id": "040cd64c-77dc-4f43-80d8-f495fe953233",
   "metadata": {},
   "source": [
    "The aim of this project is to use the actual dataset, which includes the details of the passengers, to train a model that can predict whether or not a passenger survived the Titanic."
   ]
  },
  {
   "cell_type": "markdown",
   "id": "3543ab90-76b6-4663-87c9-328a74baa12a",
   "metadata": {},
   "source": [
    "###### By: Ajala Muritala Kolade; December Batch A91"
   ]
  },
  {
   "cell_type": "markdown",
   "id": "6be026f8-6f04-4e22-9abd-cbebdc428c5b",
   "metadata": {},
   "source": [
    "Import necessary libraries"
   ]
  },
  {
   "cell_type": "code",
   "execution_count": 4,
   "id": "5952e4ba-df67-4823-82bd-aab1b8c80828",
   "metadata": {},
   "outputs": [],
   "source": [
    "import numpy as np\n",
    "import pandas as pd\n",
    "from pandas import read_csv\n",
    "import matplotlib.pyplot as plt\n",
    "import seaborn as sns\n",
    "from sklearn.linear_model import LinearRegression"
   ]
  },
  {
   "cell_type": "markdown",
   "id": "0dbfeffd-bd63-474e-a805-75b8a56701c3",
   "metadata": {},
   "source": [
    "Load the dataset"
   ]
  },
  {
   "cell_type": "code",
   "execution_count": 6,
   "id": "8833391c-317c-40d8-afa5-f8f05ef13c7d",
   "metadata": {},
   "outputs": [
    {
     "data": {
      "text/html": [
       "<div>\n",
       "<style scoped>\n",
       "    .dataframe tbody tr th:only-of-type {\n",
       "        vertical-align: middle;\n",
       "    }\n",
       "\n",
       "    .dataframe tbody tr th {\n",
       "        vertical-align: top;\n",
       "    }\n",
       "\n",
       "    .dataframe thead th {\n",
       "        text-align: right;\n",
       "    }\n",
       "</style>\n",
       "<table border=\"1\" class=\"dataframe\">\n",
       "  <thead>\n",
       "    <tr style=\"text-align: right;\">\n",
       "      <th></th>\n",
       "      <th>PassengerId</th>\n",
       "      <th>Survived</th>\n",
       "      <th>Pclass</th>\n",
       "      <th>Name</th>\n",
       "      <th>Sex</th>\n",
       "      <th>Age</th>\n",
       "      <th>SibSp</th>\n",
       "      <th>Parch</th>\n",
       "      <th>Ticket</th>\n",
       "      <th>Fare</th>\n",
       "      <th>Cabin</th>\n",
       "      <th>Embarked</th>\n",
       "    </tr>\n",
       "  </thead>\n",
       "  <tbody>\n",
       "    <tr>\n",
       "      <th>0</th>\n",
       "      <td>1</td>\n",
       "      <td>0</td>\n",
       "      <td>3</td>\n",
       "      <td>Braund, Mr. Owen Harris</td>\n",
       "      <td>male</td>\n",
       "      <td>22.0</td>\n",
       "      <td>1</td>\n",
       "      <td>0</td>\n",
       "      <td>A/5 21171</td>\n",
       "      <td>7.2500</td>\n",
       "      <td>NaN</td>\n",
       "      <td>S</td>\n",
       "    </tr>\n",
       "    <tr>\n",
       "      <th>1</th>\n",
       "      <td>2</td>\n",
       "      <td>1</td>\n",
       "      <td>1</td>\n",
       "      <td>Cumings, Mrs. John Bradley (Florence Briggs Th...</td>\n",
       "      <td>female</td>\n",
       "      <td>38.0</td>\n",
       "      <td>1</td>\n",
       "      <td>0</td>\n",
       "      <td>PC 17599</td>\n",
       "      <td>71.2833</td>\n",
       "      <td>C85</td>\n",
       "      <td>C</td>\n",
       "    </tr>\n",
       "    <tr>\n",
       "      <th>2</th>\n",
       "      <td>3</td>\n",
       "      <td>1</td>\n",
       "      <td>3</td>\n",
       "      <td>Heikkinen, Miss. Laina</td>\n",
       "      <td>female</td>\n",
       "      <td>26.0</td>\n",
       "      <td>0</td>\n",
       "      <td>0</td>\n",
       "      <td>STON/O2. 3101282</td>\n",
       "      <td>7.9250</td>\n",
       "      <td>NaN</td>\n",
       "      <td>S</td>\n",
       "    </tr>\n",
       "    <tr>\n",
       "      <th>3</th>\n",
       "      <td>4</td>\n",
       "      <td>1</td>\n",
       "      <td>1</td>\n",
       "      <td>Futrelle, Mrs. Jacques Heath (Lily May Peel)</td>\n",
       "      <td>female</td>\n",
       "      <td>35.0</td>\n",
       "      <td>1</td>\n",
       "      <td>0</td>\n",
       "      <td>113803</td>\n",
       "      <td>53.1000</td>\n",
       "      <td>C123</td>\n",
       "      <td>S</td>\n",
       "    </tr>\n",
       "    <tr>\n",
       "      <th>4</th>\n",
       "      <td>5</td>\n",
       "      <td>0</td>\n",
       "      <td>3</td>\n",
       "      <td>Allen, Mr. William Henry</td>\n",
       "      <td>male</td>\n",
       "      <td>35.0</td>\n",
       "      <td>0</td>\n",
       "      <td>0</td>\n",
       "      <td>373450</td>\n",
       "      <td>8.0500</td>\n",
       "      <td>NaN</td>\n",
       "      <td>S</td>\n",
       "    </tr>\n",
       "  </tbody>\n",
       "</table>\n",
       "</div>"
      ],
      "text/plain": [
       "   PassengerId  Survived  Pclass  \\\n",
       "0            1         0       3   \n",
       "1            2         1       1   \n",
       "2            3         1       3   \n",
       "3            4         1       1   \n",
       "4            5         0       3   \n",
       "\n",
       "                                                Name     Sex   Age  SibSp  \\\n",
       "0                            Braund, Mr. Owen Harris    male  22.0      1   \n",
       "1  Cumings, Mrs. John Bradley (Florence Briggs Th...  female  38.0      1   \n",
       "2                             Heikkinen, Miss. Laina  female  26.0      0   \n",
       "3       Futrelle, Mrs. Jacques Heath (Lily May Peel)  female  35.0      1   \n",
       "4                           Allen, Mr. William Henry    male  35.0      0   \n",
       "\n",
       "   Parch            Ticket     Fare Cabin Embarked  \n",
       "0      0         A/5 21171   7.2500   NaN        S  \n",
       "1      0          PC 17599  71.2833   C85        C  \n",
       "2      0  STON/O2. 3101282   7.9250   NaN        S  \n",
       "3      0            113803  53.1000  C123        S  \n",
       "4      0            373450   8.0500   NaN        S  "
      ]
     },
     "execution_count": 6,
     "metadata": {},
     "output_type": "execute_result"
    }
   ],
   "source": [
    "raw_data = pd.read_csv(\"Titanic-Dataset.csv\", encoding = \"latin1\")\n",
    "raw_data.head()"
   ]
  },
  {
   "cell_type": "code",
   "execution_count": 7,
   "id": "a90778a8-2cee-499f-b5e8-852694251861",
   "metadata": {},
   "outputs": [
    {
     "data": {
      "text/html": [
       "<div>\n",
       "<style scoped>\n",
       "    .dataframe tbody tr th:only-of-type {\n",
       "        vertical-align: middle;\n",
       "    }\n",
       "\n",
       "    .dataframe tbody tr th {\n",
       "        vertical-align: top;\n",
       "    }\n",
       "\n",
       "    .dataframe thead th {\n",
       "        text-align: right;\n",
       "    }\n",
       "</style>\n",
       "<table border=\"1\" class=\"dataframe\">\n",
       "  <thead>\n",
       "    <tr style=\"text-align: right;\">\n",
       "      <th></th>\n",
       "      <th>PassengerId</th>\n",
       "      <th>Survived</th>\n",
       "      <th>Pclass</th>\n",
       "      <th>Age</th>\n",
       "      <th>SibSp</th>\n",
       "      <th>Parch</th>\n",
       "      <th>Fare</th>\n",
       "    </tr>\n",
       "  </thead>\n",
       "  <tbody>\n",
       "    <tr>\n",
       "      <th>count</th>\n",
       "      <td>891.000000</td>\n",
       "      <td>891.000000</td>\n",
       "      <td>891.000000</td>\n",
       "      <td>714.000000</td>\n",
       "      <td>891.000000</td>\n",
       "      <td>891.000000</td>\n",
       "      <td>891.000000</td>\n",
       "    </tr>\n",
       "    <tr>\n",
       "      <th>mean</th>\n",
       "      <td>446.000000</td>\n",
       "      <td>0.383838</td>\n",
       "      <td>2.308642</td>\n",
       "      <td>29.699118</td>\n",
       "      <td>0.523008</td>\n",
       "      <td>0.381594</td>\n",
       "      <td>32.204208</td>\n",
       "    </tr>\n",
       "    <tr>\n",
       "      <th>std</th>\n",
       "      <td>257.353842</td>\n",
       "      <td>0.486592</td>\n",
       "      <td>0.836071</td>\n",
       "      <td>14.526497</td>\n",
       "      <td>1.102743</td>\n",
       "      <td>0.806057</td>\n",
       "      <td>49.693429</td>\n",
       "    </tr>\n",
       "    <tr>\n",
       "      <th>min</th>\n",
       "      <td>1.000000</td>\n",
       "      <td>0.000000</td>\n",
       "      <td>1.000000</td>\n",
       "      <td>0.420000</td>\n",
       "      <td>0.000000</td>\n",
       "      <td>0.000000</td>\n",
       "      <td>0.000000</td>\n",
       "    </tr>\n",
       "    <tr>\n",
       "      <th>25%</th>\n",
       "      <td>223.500000</td>\n",
       "      <td>0.000000</td>\n",
       "      <td>2.000000</td>\n",
       "      <td>20.125000</td>\n",
       "      <td>0.000000</td>\n",
       "      <td>0.000000</td>\n",
       "      <td>7.910400</td>\n",
       "    </tr>\n",
       "    <tr>\n",
       "      <th>50%</th>\n",
       "      <td>446.000000</td>\n",
       "      <td>0.000000</td>\n",
       "      <td>3.000000</td>\n",
       "      <td>28.000000</td>\n",
       "      <td>0.000000</td>\n",
       "      <td>0.000000</td>\n",
       "      <td>14.454200</td>\n",
       "    </tr>\n",
       "    <tr>\n",
       "      <th>75%</th>\n",
       "      <td>668.500000</td>\n",
       "      <td>1.000000</td>\n",
       "      <td>3.000000</td>\n",
       "      <td>38.000000</td>\n",
       "      <td>1.000000</td>\n",
       "      <td>0.000000</td>\n",
       "      <td>31.000000</td>\n",
       "    </tr>\n",
       "    <tr>\n",
       "      <th>max</th>\n",
       "      <td>891.000000</td>\n",
       "      <td>1.000000</td>\n",
       "      <td>3.000000</td>\n",
       "      <td>80.000000</td>\n",
       "      <td>8.000000</td>\n",
       "      <td>6.000000</td>\n",
       "      <td>512.329200</td>\n",
       "    </tr>\n",
       "  </tbody>\n",
       "</table>\n",
       "</div>"
      ],
      "text/plain": [
       "       PassengerId    Survived      Pclass         Age       SibSp  \\\n",
       "count   891.000000  891.000000  891.000000  714.000000  891.000000   \n",
       "mean    446.000000    0.383838    2.308642   29.699118    0.523008   \n",
       "std     257.353842    0.486592    0.836071   14.526497    1.102743   \n",
       "min       1.000000    0.000000    1.000000    0.420000    0.000000   \n",
       "25%     223.500000    0.000000    2.000000   20.125000    0.000000   \n",
       "50%     446.000000    0.000000    3.000000   28.000000    0.000000   \n",
       "75%     668.500000    1.000000    3.000000   38.000000    1.000000   \n",
       "max     891.000000    1.000000    3.000000   80.000000    8.000000   \n",
       "\n",
       "            Parch        Fare  \n",
       "count  891.000000  891.000000  \n",
       "mean     0.381594   32.204208  \n",
       "std      0.806057   49.693429  \n",
       "min      0.000000    0.000000  \n",
       "25%      0.000000    7.910400  \n",
       "50%      0.000000   14.454200  \n",
       "75%      0.000000   31.000000  \n",
       "max      6.000000  512.329200  "
      ]
     },
     "execution_count": 7,
     "metadata": {},
     "output_type": "execute_result"
    }
   ],
   "source": [
    "raw_data.describe()"
   ]
  },
  {
   "cell_type": "code",
   "execution_count": 8,
   "id": "0bda298e-c195-4ec9-a58f-d07c0342c703",
   "metadata": {},
   "outputs": [
    {
     "data": {
      "text/plain": [
       "(891, 12)"
      ]
     },
     "execution_count": 8,
     "metadata": {},
     "output_type": "execute_result"
    }
   ],
   "source": [
    "raw_data.shape"
   ]
  },
  {
   "cell_type": "markdown",
   "id": "265d7445-ba31-4b5e-81f1-58685dab21d2",
   "metadata": {},
   "source": [
    "Drop unnecessary and null columns and replace the missing values in the 'Age' column with the median age"
   ]
  },
  {
   "cell_type": "code",
   "execution_count": 10,
   "id": "c2e46010-fc74-4074-8897-0f88de23deb1",
   "metadata": {},
   "outputs": [
    {
     "data": {
      "text/html": [
       "<div>\n",
       "<style scoped>\n",
       "    .dataframe tbody tr th:only-of-type {\n",
       "        vertical-align: middle;\n",
       "    }\n",
       "\n",
       "    .dataframe tbody tr th {\n",
       "        vertical-align: top;\n",
       "    }\n",
       "\n",
       "    .dataframe thead th {\n",
       "        text-align: right;\n",
       "    }\n",
       "</style>\n",
       "<table border=\"1\" class=\"dataframe\">\n",
       "  <thead>\n",
       "    <tr style=\"text-align: right;\">\n",
       "      <th></th>\n",
       "      <th>PassengerId</th>\n",
       "      <th>Survived</th>\n",
       "      <th>Tckt_class</th>\n",
       "      <th>Sex</th>\n",
       "      <th>Age</th>\n",
       "      <th>Fare</th>\n",
       "      <th>Embarked</th>\n",
       "    </tr>\n",
       "  </thead>\n",
       "  <tbody>\n",
       "    <tr>\n",
       "      <th>0</th>\n",
       "      <td>1</td>\n",
       "      <td>0</td>\n",
       "      <td>3</td>\n",
       "      <td>male</td>\n",
       "      <td>22.0</td>\n",
       "      <td>7.2500</td>\n",
       "      <td>S</td>\n",
       "    </tr>\n",
       "    <tr>\n",
       "      <th>1</th>\n",
       "      <td>2</td>\n",
       "      <td>1</td>\n",
       "      <td>1</td>\n",
       "      <td>female</td>\n",
       "      <td>38.0</td>\n",
       "      <td>71.2833</td>\n",
       "      <td>C</td>\n",
       "    </tr>\n",
       "    <tr>\n",
       "      <th>2</th>\n",
       "      <td>3</td>\n",
       "      <td>1</td>\n",
       "      <td>3</td>\n",
       "      <td>female</td>\n",
       "      <td>26.0</td>\n",
       "      <td>7.9250</td>\n",
       "      <td>S</td>\n",
       "    </tr>\n",
       "    <tr>\n",
       "      <th>3</th>\n",
       "      <td>4</td>\n",
       "      <td>1</td>\n",
       "      <td>1</td>\n",
       "      <td>female</td>\n",
       "      <td>35.0</td>\n",
       "      <td>53.1000</td>\n",
       "      <td>S</td>\n",
       "    </tr>\n",
       "    <tr>\n",
       "      <th>4</th>\n",
       "      <td>5</td>\n",
       "      <td>0</td>\n",
       "      <td>3</td>\n",
       "      <td>male</td>\n",
       "      <td>35.0</td>\n",
       "      <td>8.0500</td>\n",
       "      <td>S</td>\n",
       "    </tr>\n",
       "    <tr>\n",
       "      <th>5</th>\n",
       "      <td>6</td>\n",
       "      <td>0</td>\n",
       "      <td>3</td>\n",
       "      <td>male</td>\n",
       "      <td>28.0</td>\n",
       "      <td>8.4583</td>\n",
       "      <td>Q</td>\n",
       "    </tr>\n",
       "    <tr>\n",
       "      <th>6</th>\n",
       "      <td>7</td>\n",
       "      <td>0</td>\n",
       "      <td>1</td>\n",
       "      <td>male</td>\n",
       "      <td>54.0</td>\n",
       "      <td>51.8625</td>\n",
       "      <td>S</td>\n",
       "    </tr>\n",
       "    <tr>\n",
       "      <th>7</th>\n",
       "      <td>8</td>\n",
       "      <td>0</td>\n",
       "      <td>3</td>\n",
       "      <td>male</td>\n",
       "      <td>2.0</td>\n",
       "      <td>21.0750</td>\n",
       "      <td>S</td>\n",
       "    </tr>\n",
       "    <tr>\n",
       "      <th>8</th>\n",
       "      <td>9</td>\n",
       "      <td>1</td>\n",
       "      <td>3</td>\n",
       "      <td>female</td>\n",
       "      <td>27.0</td>\n",
       "      <td>11.1333</td>\n",
       "      <td>S</td>\n",
       "    </tr>\n",
       "    <tr>\n",
       "      <th>9</th>\n",
       "      <td>10</td>\n",
       "      <td>1</td>\n",
       "      <td>2</td>\n",
       "      <td>female</td>\n",
       "      <td>14.0</td>\n",
       "      <td>30.0708</td>\n",
       "      <td>C</td>\n",
       "    </tr>\n",
       "  </tbody>\n",
       "</table>\n",
       "</div>"
      ],
      "text/plain": [
       "   PassengerId  Survived  Tckt_class     Sex   Age     Fare Embarked\n",
       "0            1         0           3    male  22.0   7.2500        S\n",
       "1            2         1           1  female  38.0  71.2833        C\n",
       "2            3         1           3  female  26.0   7.9250        S\n",
       "3            4         1           1  female  35.0  53.1000        S\n",
       "4            5         0           3    male  35.0   8.0500        S\n",
       "5            6         0           3    male  28.0   8.4583        Q\n",
       "6            7         0           1    male  54.0  51.8625        S\n",
       "7            8         0           3    male   2.0  21.0750        S\n",
       "8            9         1           3  female  27.0  11.1333        S\n",
       "9           10         1           2  female  14.0  30.0708        C"
      ]
     },
     "execution_count": 10,
     "metadata": {},
     "output_type": "execute_result"
    }
   ],
   "source": [
    "dataset = raw_data.drop(columns = ['Cabin', 'Name', 'SibSp', 'Parch', 'Ticket'])\n",
    "dataset.rename(columns={'Pclass': 'Tckt_class'}, inplace=True)\n",
    "dataset['Age'] = dataset['Age'].fillna(dataset['Age'].median())\n",
    "dataset = dataset.dropna(axis = 0, how = 'any')\n",
    "dataset.head(10)"
   ]
  },
  {
   "cell_type": "code",
   "execution_count": 11,
   "id": "2cc1610a-d34a-49f2-b0bf-ba30d11847a1",
   "metadata": {},
   "outputs": [
    {
     "data": {
      "text/plain": [
       "(889, 7)"
      ]
     },
     "execution_count": 11,
     "metadata": {},
     "output_type": "execute_result"
    }
   ],
   "source": [
    "dataset.shape"
   ]
  },
  {
   "cell_type": "markdown",
   "id": "4d9729e9-e37e-4369-b5f7-8538755848de",
   "metadata": {},
   "source": [
    "Check the data type of the columns"
   ]
  },
  {
   "cell_type": "code",
   "execution_count": 13,
   "id": "96ec80c8-cf8a-49f2-969b-1afd7f411bb1",
   "metadata": {},
   "outputs": [
    {
     "name": "stdout",
     "output_type": "stream",
     "text": [
      "<class 'pandas.core.frame.DataFrame'>\n",
      "Index: 889 entries, 0 to 890\n",
      "Data columns (total 7 columns):\n",
      " #   Column       Non-Null Count  Dtype  \n",
      "---  ------       --------------  -----  \n",
      " 0   PassengerId  889 non-null    int64  \n",
      " 1   Survived     889 non-null    int64  \n",
      " 2   Tckt_class   889 non-null    int64  \n",
      " 3   Sex          889 non-null    object \n",
      " 4   Age          889 non-null    float64\n",
      " 5   Fare         889 non-null    float64\n",
      " 6   Embarked     889 non-null    object \n",
      "dtypes: float64(2), int64(3), object(2)\n",
      "memory usage: 55.6+ KB\n"
     ]
    }
   ],
   "source": [
    "dataset.info()"
   ]
  },
  {
   "cell_type": "markdown",
   "id": "74c80bbf-8631-48de-9357-0b420dfdfb5c",
   "metadata": {},
   "source": [
    "Change the data type to the appropriate ones"
   ]
  },
  {
   "cell_type": "code",
   "execution_count": 15,
   "id": "ff2b4ca5-c756-47b7-8709-9c1547fa7c43",
   "metadata": {},
   "outputs": [
    {
     "name": "stdout",
     "output_type": "stream",
     "text": [
      "<class 'pandas.core.frame.DataFrame'>\n",
      "Index: 889 entries, 0 to 890\n",
      "Data columns (total 7 columns):\n",
      " #   Column       Non-Null Count  Dtype  \n",
      "---  ------       --------------  -----  \n",
      " 0   PassengerId  889 non-null    int64  \n",
      " 1   Survived     889 non-null    int64  \n",
      " 2   Tckt_class   889 non-null    int64  \n",
      " 3   Sex          889 non-null    string \n",
      " 4   Age          889 non-null    int32  \n",
      " 5   Fare         889 non-null    float64\n",
      " 6   Embarked     889 non-null    object \n",
      "dtypes: float64(1), int32(1), int64(3), object(1), string(1)\n",
      "memory usage: 52.1+ KB\n"
     ]
    }
   ],
   "source": [
    "dataset['Sex'] = dataset['Sex'].astype('string')\n",
    "dataset['Age'] =dataset['Age'].astype(int)\n",
    "dataset.info()"
   ]
  },
  {
   "cell_type": "markdown",
   "id": "fe5f0dc2-bb5b-4d27-90e4-f64effe42222",
   "metadata": {},
   "source": [
    "#### Begin Exploratory Data Analysis to determine the features of the model"
   ]
  },
  {
   "cell_type": "markdown",
   "id": "d246e195-4884-4d64-8a48-5df88f661090",
   "metadata": {},
   "source": [
    "Bar Chart of Survival by Gender"
   ]
  },
  {
   "cell_type": "code",
   "execution_count": 18,
   "id": "45d7851c-32fa-4021-b16d-468b277e8c92",
   "metadata": {},
   "outputs": [
    {
     "data": {
      "image/png": "[encoded data removed]",
      "text/plain": [
       "<Figure size 640x480 with 1 Axes>"
      ]
     },
     "metadata": {},
     "output_type": "display_data"
    }
   ],
   "source": [
    "survive_count = dataset[dataset['Survived'] == 1].groupby('Sex').size()\n",
    "\n",
    "survive_count.plot(kind = 'bar', color = 'skyblue', legend = False)\n",
    "plt.xlabel('Sex')\n",
    "plt.ylabel('Survived')\n",
    "plt.title('Survival by Gender')\n",
    "plt.xticks(rotation = 0)\n",
    "plt.show()"
   ]
  },
  {
   "cell_type": "markdown",
   "id": "72a788c7-c8d9-4035-a4d0-eacae49bac75",
   "metadata": {},
   "source": [
    "Determine whether Gender has a correlation with Survival"
   ]
  },
  {
   "cell_type": "code",
   "execution_count": 20,
   "id": "c86b5618-572b-4132-8161-08a295da0f77",
   "metadata": {},
   "outputs": [
    {
     "data": {
      "image/png": "[encoded data removed]",
      "text/plain": [
       "<Figure size 800x600 with 1 Axes>"
      ]
     },
     "metadata": {},
     "output_type": "display_data"
    }
   ],
   "source": [
    "dataset['Gender'] = dataset['Sex'].map({'male': 0, 'female': 1})\n",
    "\n",
    "plt.figure(figsize=(8, 6))\n",
    "sns.regplot(x = 'Gender', y = 'Survived', data = dataset, logistic = True, scatter_kws = {'alpha': 0.6, 's': 80}, line_kws = {'color': 'red'})\n",
    "\n",
    "plt.xticks([0, 1], ['Male', 'Female'])\n",
    "plt.xlabel('Gender')\n",
    "plt.ylabel('Survived (0 = No, 1 = Yes)')\n",
    "plt.title('Scatter Plot of Gender vs Survival with Trend Line')\n",
    "\n",
    "plt.show()"
   ]
  },
  {
   "cell_type": "markdown",
   "id": "4e60ba55-4fc1-44bf-8b92-71b6e256d008",
   "metadata": {},
   "source": [
    "Bar Chart of Survival by Age"
   ]
  },
  {
   "cell_type": "code",
   "execution_count": 22,
   "id": "229e4d96-9659-454e-a25d-fc04c167dfe1",
   "metadata": {},
   "outputs": [
    {
     "data": {
      "image/png": "[encoded data removed]",
      "text/plain": [
       "<Figure size 1800x1000 with 1 Axes>"
      ]
     },
     "metadata": {},
     "output_type": "display_data"
    }
   ],
   "source": [
    "survive_count = dataset[dataset['Survived'] == 1].groupby('Age').size()\n",
    "\n",
    "plt.figure(figsize=(18, 10))\n",
    "survive_count.plot(kind = 'bar', color = 'skyblue', legend = False)\n",
    "plt.xlabel('Age')\n",
    "plt.ylabel('Survived')\n",
    "plt.title('Survival by Age')\n",
    "plt.xticks(rotation = 90)\n",
    "plt.show()"
   ]
  },
  {
   "cell_type": "markdown",
   "id": "55d06221-3b00-4dbd-a5c8-1217e5ab8106",
   "metadata": {},
   "source": [
    "Determine whether Age has a correlation with Survival"
   ]
  },
  {
   "cell_type": "code",
   "execution_count": 24,
   "id": "b5a99c60-77de-4e1f-a6cf-6c938fe29c6b",
   "metadata": {},
   "outputs": [
    {
     "data": {
      "image/png": "[encoded data removed]",
      "text/plain": [
       "<Figure size 640x480 with 1 Axes>"
      ]
     },
     "metadata": {},
     "output_type": "display_data"
    }
   ],
   "source": [
    "plt.scatter(dataset['Age'], dataset['Survived'], color='blue', alpha=0.6)\n",
    "\n",
    "model = LinearRegression()\n",
    "X = dataset['Age'].values.reshape(-1, 1)\n",
    "y = dataset['Survived']\n",
    "model.fit(X, y)\n",
    "trendline = model.predict(X)\n",
    "plt.plot(dataset['Age'], trendline, color='red', label='Trend Line')\n",
    "\n",
    "plt.xlabel('Age')\n",
    "plt.ylabel('Survival Status')\n",
    "plt.title('Survival against Age')\n",
    "plt.legend()\n",
    "plt.show()"
   ]
  },
  {
   "cell_type": "markdown",
   "id": "9345f6d5-02bd-4d68-b6a9-3a55892a9f2f",
   "metadata": {},
   "source": [
    "Determine whether Fare has a correlation with Survival"
   ]
  },
  {
   "cell_type": "code",
   "execution_count": 26,
   "id": "e2f607e9-a978-4b27-85a1-6f439c28aac1",
   "metadata": {},
   "outputs": [
    {
     "data": {
      "image/png": "[encoded data removed]",
      "text/plain": [
       "<Figure size 640x480 with 1 Axes>"
      ]
     },
     "metadata": {},
     "output_type": "display_data"
    }
   ],
   "source": [
    "plt.scatter(dataset['Fare'], dataset['Survived'], color='blue', alpha=0.6)\n",
    "\n",
    "model = LinearRegression()\n",
    "X = dataset['Fare'].values.reshape(-1, 1)\n",
    "y = dataset['Survived']\n",
    "model.fit(X, y)\n",
    "trendline = model.predict(X)\n",
    "plt.plot(dataset['Fare'], trendline, color='red', label='Trend Line')\n",
    "\n",
    "plt.xlabel('Fare')\n",
    "plt.ylabel('Survival Status')\n",
    "plt.title('Survival against Fare')\n",
    "plt.legend()\n",
    "plt.show()"
   ]
  },
  {
   "cell_type": "markdown",
   "id": "8e308003-766c-4bd4-8fab-d4b3385b7ebe",
   "metadata": {},
   "source": [
    "Bar Chart of Survival by Ticket Class"
   ]
  },
  {
   "cell_type": "code",
   "execution_count": 28,
   "id": "40280175-3ce1-4281-a1d4-a6772645dbf4",
   "metadata": {},
   "outputs": [
    {
     "data": {
      "image/png": "[encoded data removed]",
      "text/plain": [
       "<Figure size 640x480 with 1 Axes>"
      ]
     },
     "metadata": {},
     "output_type": "display_data"
    }
   ],
   "source": [
    "survive_count = dataset[dataset['Survived'] == 1].groupby('Tckt_class').size()\n",
    "\n",
    "survive_count.plot(kind = 'bar', color = 'skyblue', legend = False)\n",
    "plt.xticks(rotation = 0)\n",
    "plt.show()"
   ]
  },
  {
   "cell_type": "markdown",
   "id": "21e70a93-ff25-4412-9a74-d05e36cabbdd",
   "metadata": {},
   "source": [
    "Bar chart of Survival by Embarked"
   ]
  },
  {
   "cell_type": "code",
   "execution_count": 30,
   "id": "61587f41-8bbf-4e6e-8f64-f15ac1f0bcff",
   "metadata": {},
   "outputs": [
    {
     "data": {
      "image/png": "[encoded data removed]",
      "text/plain": [
       "<Figure size 640x480 with 1 Axes>"
      ]
     },
     "metadata": {},
     "output_type": "display_data"
    }
   ],
   "source": [
    "survive_count = dataset[dataset['Survived'] == 1].groupby('Embarked').size()\n",
    "\n",
    "survive_count.plot(kind = 'bar', color = 'skyblue', legend = False)\n",
    "plt.xticks(rotation = 0) \n",
    "plt.show()"
   ]
  },
  {
   "cell_type": "markdown",
   "id": "fce80e8b-0ed8-49b6-aa86-dbcda9d41ddd",
   "metadata": {},
   "source": [
    "#### Train the model"
   ]
  },
  {
   "cell_type": "markdown",
   "id": "1c706f4b-ad56-4a73-939a-2092eb32e324",
   "metadata": {},
   "source": [
    "A Gradient Boosting Classifier was used to increase accuracy of prediction"
   ]
  },
  {
   "cell_type": "code",
   "execution_count": 33,
   "id": "b0e2e6eb-83b9-4552-8b3a-d1618881c216",
   "metadata": {},
   "outputs": [],
   "source": [
    "from sklearn.model_selection import train_test_split\n",
    "from sklearn.metrics import r2_score\n",
    "df = dataset.drop(columns = ['PassengerId'])\n",
    "from sklearn.model_selection import train_test_split\n",
    "from sklearn.ensemble import GradientBoostingClassifier\n",
    "from sklearn.metrics import accuracy_score, classification_report"
   ]
  },
  {
   "cell_type": "markdown",
   "id": "3399973c-4c9f-4d87-8247-e4b2fd299e0e",
   "metadata": {},
   "source": [
    "Map the categorical variables to numerical values"
   ]
  },
  {
   "cell_type": "code",
   "execution_count": 35,
   "id": "59ae15a3-ec63-46ee-a474-1396040e30e9",
   "metadata": {},
   "outputs": [],
   "source": [
    "df['Sex'] = df['Sex'].map({'male': 0, 'female': 1})\n",
    "df['Embarked'] = df['Embarked'].map({'S': 0, 'C': 1, 'Q': 2})"
   ]
  },
  {
   "cell_type": "markdown",
   "id": "5e4d8105-171f-4b4c-bdac-2b3d25561a7b",
   "metadata": {},
   "source": [
    "Split the data into training and testing sets"
   ]
  },
  {
   "cell_type": "code",
   "execution_count": 37,
   "id": "87e7310e-8d16-4a3c-9f51-8a64f9ea0550",
   "metadata": {},
   "outputs": [],
   "source": [
    "X = df.drop(columns=['Survived'])  \n",
    "y = df['Survived']  \n",
    "\n",
    "X_train, X_test, y_train, y_test = train_test_split(X, y, test_size=0.4, random_state=42)"
   ]
  },
  {
   "cell_type": "markdown",
   "id": "ae7a8eff-945b-4be1-99a8-4291ebae9e4e",
   "metadata": {},
   "source": [
    "Train the gradient boosting classifier, make predictions and calculate accuracy score"
   ]
  },
  {
   "cell_type": "code",
   "execution_count": 39,
   "id": "9a66a3cd-bda9-4082-a3dc-407b829f7a0c",
   "metadata": {},
   "outputs": [
    {
     "name": "stdout",
     "output_type": "stream",
     "text": [
      "Accuracy Score 0.797752808988764\n"
     ]
    }
   ],
   "source": [
    "model = GradientBoostingClassifier(n_estimators=500, learning_rate=0.1, random_state=42)\n",
    "model.fit(X_train, y_train)\n",
    "\n",
    "x_pred = model.predict(X_test)\n",
    "accuracy = accuracy_score(y_test, x_pred)\n",
    "print('Accuracy Score', accuracy)"
   ]
  }
 ],
 "metadata": {
  "kernelspec": {
   "display_name": "Python [conda env:base] *",
   "language": "python",
   "name": "conda-base-py"
  },
  "language_info": {
   "codemirror_mode": {
    "name": "ipython",
    "version": 3
   },
   "file_extension": ".py",
   "mimetype": "text/x-python",
   "name": "python",
   "nbconvert_exporter": "python",
   "pygments_lexer": "ipython3",
   "version": "3.12.7"
  }
 },
 "nbformat": 4,
 "nbformat_minor": 5
}
